{
 "cells": [
  {
   "cell_type": "code",
   "execution_count": 1,
   "metadata": {
    "collapsed": false
   },
   "outputs": [
    {
     "name": "stdout",
     "output_type": "stream",
     "text": [
      "(1168,) (629,)\n"
     ]
    }
   ],
   "source": [
    "from sklearn.datasets import load_digits\n",
    "digits = load_digits()\n",
    "\n",
    "i = int(digits.target.shape[0] / 100 * 65)\n",
    "X_train, y_train = (digits.data[:i], digits.target[:i])\n",
    "X_test, y_test = (digits.data[i:], digits.target[i:])\n",
    "print(y_train.shape, y_test.shape)"
   ]
  },
  {
   "cell_type": "code",
   "execution_count": 2,
   "metadata": {
    "collapsed": false
   },
   "outputs": [],
   "source": [
    "import numpy as np\n",
    "import bisect\n",
    "from numpy import linalg as lg\n",
    "from heapq import heappush, heappop, nlargest\n",
    "from functools import partial\n",
    "\n",
    "class BallTree:\n",
    "    \"\"\"Ball tree class\"\"\"\n",
    "\n",
    "    # class initialization function\n",
    "    def __init__(self, X, y):\n",
    "        \"\"\"Build tree structure\n",
    "            \n",
    "            Vars:\n",
    "                X (array): array of points (features)\n",
    "                y (array): array of labels or classes\n",
    "        \"\"\"\n",
    "        self.X = np.asarray(X)\n",
    "        self.y = np.asarray(y)\n",
    "\n",
    "        self.child1 = None\n",
    "        self.child2 = None\n",
    "        \n",
    "        # calculate centroid\n",
    "        self.loc = X.mean(0)\n",
    "        \n",
    "        # calculate ball radius\n",
    "        self.radius = np.max(self.dist(X, self.loc))\n",
    "\n",
    "        if len(self.X) > 1:\n",
    "            # sort on the dimension with the largest spread\n",
    "            largest_dim = np.argmax(self.X.max(0) - self.X.min(0))\n",
    "            i_sort = np.argsort(self.X[:, largest_dim])\n",
    "            self.X = self.X[i_sort,:]\n",
    "            self.y = self.y[i_sort]\n",
    "\n",
    "            # find split point\n",
    "            N = round(self.X.shape[0] / 2)\n",
    "            self.split_point = 0.5 * (self.X[N, largest_dim] + self.X[N - 1, largest_dim])\n",
    "\n",
    "            # recursively create subnodes\n",
    "            self.child1 = BallTree(self.X[N:], self.y[N:])\n",
    "            self.child2 = BallTree(self.X[:N], self.y[:N])\n",
    "    \n",
    "    def dist(self, a, b):\n",
    "        \"\"\"Calculate simplified euclidean distance\n",
    "        \n",
    "            Vars:\n",
    "                a (array): first vector\n",
    "                b (array): second vector\n",
    "            \n",
    "            Returns:\n",
    "                Returns euclidean distance as per https://en.wikipedia.org/wiki/Euclidean_distance\n",
    "        \"\"\"\n",
    "        a = np.asarray(a)\n",
    "        b = np.asarray(b)\n",
    "        if a.shape[0] == a.size and b.shape[0] == b.size:\n",
    "            # if distance calculated between single points\n",
    "            return ((a - b)**2).sum()\n",
    "        else:\n",
    "            # if distance calculated between sets of vectors\n",
    "            return ((a - b)**2).sum(1)\n",
    "    \n",
    "    def search(self, t, k, heap):\n",
    "        \"\"\"Search for k nearest neighbor points in the tree\n",
    "        \n",
    "            Vars:\n",
    "                t (array): Point used to search neighbors\n",
    "                k (int): The number of neighbors\n",
    "                heap (array): Sorted array of max k nearest distances \n",
    "                              and associated labels\n",
    "                \n",
    "            Returns:\n",
    "                Returns an array of k nearest distances and associated labels\n",
    "        \"\"\"\n",
    "        d = self.dist(t, self.loc)\n",
    "        \n",
    "        # calculate minimal distance from point t to any point \n",
    "        # in this tree node\n",
    "        min_d = 0 if d < self.radius else d - self.radius\n",
    "        \n",
    "        # compare minimal destination with furthest element in the heap\n",
    "        if len(heap) > 0 and min_d > heap[-1][0]:\n",
    "            return\n",
    "        else:\n",
    "            if self.child1 is None and self.child2 is None:\n",
    "                # if leaf node then calculate distances and add them to the heap\n",
    "                # together with associated labels\n",
    "                for p, l, d in zip(self.X, self.y, self.dist(self.X, t)):\n",
    "                    if len(heap) == 0 or d < heap[-1][0]:\n",
    "                        bisect.insort_left(heap, (d, l))\n",
    "                        if len(heap) > k:\n",
    "                            heap.pop(k)\n",
    "            else:\n",
    "                # Recursively search in child nodes\n",
    "                if self.child1 is not None:\n",
    "                    self.child1.search(t, k, heap)\n",
    "                if self.child2 is not None:\n",
    "                    self.child2.search(t, k, heap)\n",
    "        return heap\n",
    "    \n",
    "class KNClassifier(object):\n",
    "    def __init__(self, k):\n",
    "        \"\"\" Initialize classifier\n",
    "\n",
    "            Vars:\n",
    "                k (int): The number of neighbors to be used\n",
    "        \"\"\"\n",
    "        self.__tree = None\n",
    "        self.__k = k\n",
    "        \n",
    "    def fit(self, X, y):\n",
    "        \"\"\" Train data classifier\n",
    "\n",
    "            Vars:\n",
    "                X (array): array of points (features)\n",
    "                y (array): array of labels or classes\n",
    "        \"\"\"\n",
    "        self.__tree = BallTree(X, y)\n",
    "        \n",
    "    def predict(self, X):\n",
    "        \"\"\" Predict labels\n",
    "\n",
    "            Vars:\n",
    "                X (array): array of points (features)\n",
    "                \n",
    "            Returns:\n",
    "                Returns an array of predicted labels\n",
    "        \"\"\"\n",
    "        y = []\n",
    "        for t in X:\n",
    "            kn = []\n",
    "            kn = np.asarray(self.__tree.search(t, k = self.__k, heap = kn))\n",
    "            unique, counts = np.unique(kn[:,1], return_counts=True)\n",
    "            y.append(sorted(np.asarray((unique, counts)).T, key = lambda v: v[1], reverse = True)[0][0])\n",
    "        return np.asarray(y)"
   ]
  },
  {
   "cell_type": "code",
   "execution_count": 3,
   "metadata": {
    "collapsed": false
   },
   "outputs": [
    {
     "data": {
      "text/plain": [
       "0.9634340222575517"
      ]
     },
     "execution_count": 3,
     "metadata": {},
     "output_type": "execute_result"
    }
   ],
   "source": [
    "from sklearn.metrics import accuracy_score\n",
    "clf = KNClassifier(1)\n",
    "clf.fit(X_train, y_train)\n",
    "y_pred = clf.predict(X_test)\n",
    "accuracy_score(y_test, y_pred)\n"
   ]
  },
  {
   "cell_type": "code",
   "execution_count": 4,
   "metadata": {
    "collapsed": false
   },
   "outputs": [
    {
     "data": {
      "text/plain": [
       "0.9634340222575517"
      ]
     },
     "execution_count": 4,
     "metadata": {},
     "output_type": "execute_result"
    }
   ],
   "source": [
    "from sklearn.neighbors import KNeighborsClassifier\n",
    "clf = KNeighborsClassifier(n_neighbors = 1, algorithm = 'ball_tree')\n",
    "clf.fit(X_train, y_train)\n",
    "y_pred = clf.predict(X_test)\n",
    "accuracy_score(y_test, y_pred)"
   ]
  }
 ],
 "metadata": {
  "kernelspec": {
   "display_name": "Python 3",
   "language": "python",
   "name": "python3"
  },
  "language_info": {
   "codemirror_mode": {
    "name": "ipython",
    "version": 3
   },
   "file_extension": ".py",
   "mimetype": "text/x-python",
   "name": "python",
   "nbconvert_exporter": "python",
   "pygments_lexer": "ipython3",
   "version": "3.5.2"
  }
 },
 "nbformat": 4,
 "nbformat_minor": 0
}
